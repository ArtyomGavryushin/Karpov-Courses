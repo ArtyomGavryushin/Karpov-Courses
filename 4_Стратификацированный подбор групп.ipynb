{
 "cells": [
  {
   "cell_type": "markdown",
   "id": "9bdbdcf0",
   "metadata": {},
   "source": [
    "## № задача 1 \n",
    "\n",
    "анализ эффективности рекламной кампании с учётом платформ\n",
    "Компания запустила A/B-тест новой рекламной кампании. Пользователи случайным образом разделены на две группы:\n",
    "\n",
    "- A — контрольная группа, видит старую кампанию;\n",
    "\n",
    "- B — тестовая группа, видит новую кампанию.\n",
    "\n",
    "Платформы пользователей — mobile и desktop. Известно, что поведение пользователей и их кликабельность (CTR) может отличаться в зависимости от платформы, поэтому важно провести стратифицированный анализ."
   ]
  },
  {
   "cell_type": "code",
   "execution_count": 1,
   "id": "3995ef35",
   "metadata": {},
   "outputs": [],
   "source": [
    "import pandas as pd\n",
    "import numpy as np"
   ]
  },
  {
   "cell_type": "code",
   "execution_count": 3,
   "id": "0ae55f9a",
   "metadata": {},
   "outputs": [
    {
     "name": "stdout",
     "output_type": "stream",
     "text": [
      "group            A         B\n",
      "platform                    \n",
      "desktop   0.060662  0.060753\n",
      "mobile    0.029680  0.029867\n"
     ]
    }
   ],
   "source": [
    "# Пример данных\n",
    "np.random.seed(42)\n",
    "n = 1000\n",
    "df = pd.DataFrame({\n",
    "    \"user_id\": range(n),\n",
    "    \"platform\": np.random.choice([\"mobile\", \"desktop\"], size=n, p=[0.6, 0.4]),\n",
    "    \"group\": np.random.choice([\"A\", \"B\"], size=n),\n",
    "})\n",
    "\n",
    "# Симулируем метрику: выше на desktop\n",
    "df[\"ctr\"] = np.where(df[\"platform\"] == \"desktop\",\n",
    "                     np.random.normal(0.06, 0.01, n),\n",
    "                     np.random.normal(0.03, 0.01, n))\n",
    "\n",
    "# Стратификация: считаем среднее CTR по платформам и группам\n",
    "result = df.groupby([\"platform\", \"group\"])[\"ctr\"].mean().unstack()\n",
    "print(result)"
   ]
  },
  {
   "cell_type": "markdown",
   "id": "878e95c6",
   "metadata": {},
   "source": [
    " Разница между группами в каждой страте минимальна — скорее всего, тест не дал результата."
   ]
  },
  {
   "cell_type": "code",
   "execution_count": 4,
   "id": "6d7d3858",
   "metadata": {},
   "outputs": [
    {
     "name": "stdout",
     "output_type": "stream",
     "text": [
      "Weighted mean A: 0.04167006489395897\n"
     ]
    }
   ],
   "source": [
    "# Взвешенное среднее для группы A\n",
    "weights = df[\"platform\"].value_counts(normalize=True).sort_index()\n",
    "weighted_mean_A = (result[\"A\"] * weights).sum()\n",
    "print(\"Weighted mean A:\", weighted_mean_A)"
   ]
  },
  {
   "cell_type": "code",
   "execution_count": 5,
   "id": "b7ad11c2",
   "metadata": {},
   "outputs": [
    {
     "name": "stdout",
     "output_type": "stream",
     "text": [
      "p-value для страты mobile: 0.8134668041040406\n"
     ]
    }
   ],
   "source": [
    "from scipy.stats import ttest_ind\n",
    "\n",
    "# Пример: метрика по группам внутри страты 'mobile'\n",
    "a_mobile = df[(df['group'] == 'A') & (df['platform'] == 'mobile')][\"ctr\"]\n",
    "b_mobile = df[(df['group'] == 'B') & (df['platform'] == 'mobile')][\"ctr\"]\n",
    "\n",
    "t_stat, p_val = ttest_ind(a_mobile, b_mobile)\n",
    "print(\"p-value для страты mobile:\", p_val)"
   ]
  },
  {
   "cell_type": "markdown",
   "id": "ff526b0e",
   "metadata": {},
   "source": [
    "* p-value > 0.05 → нет статистически значимой разницы между A и B внутри mobile\n",
    "\n",
    "* Разница между 2.97% и 2.99% — незначима\n",
    "\n",
    "Общий вывод:\n",
    "* Различий между группами A и B не наблюдается ни в одной страте\n",
    "* Стратификация (по платформам) помогает отдельно проверить эффект A/B-теста на разных подгруппах пользователей\n",
    "* Взвешенные средние показывают общее поведение метрики с учётом реальных пропорций платформ\n",
    "\n"
   ]
  },
  {
   "cell_type": "markdown",
   "id": "be1f0e1a",
   "metadata": {},
   "source": [
    "## № задача 2 \n",
    "\n",
    "стратифицированная выборка для A/B-теста\n",
    "\n",
    "Условие:\n",
    "Нужно разбить датафрейм на 2 равные по размеру и стратифицированные группы: пилотную и контрольную. Стратификация — по заданным колонкам (например, ['platform', 'gender']), с учётом весов страт (если не заданы — пропорционально числу объектов). Разбивка должна быть воспроизводимой при фиксированном seed и рандомной при его отсутствии."
   ]
  },
  {
   "cell_type": "code",
   "execution_count": 6,
   "id": "6307ec36",
   "metadata": {},
   "outputs": [],
   "source": [
    "def select_stratified_groups(data, strat_columns, group_size, weights=None, seed=None):\n",
    "    np.random.seed(seed)\n",
    "    \n",
    "    # Определяем страты\n",
    "    data = data.copy()\n",
    "    data['stratum'] = data[strat_columns].apply(lambda row: tuple(row), axis=1)\n",
    "\n",
    "    # Вычисляем веса страт, если не заданы\n",
    "    if weights is None:\n",
    "        stratum_counts = data['stratum'].value_counts(normalize=True)\n",
    "        weights = stratum_counts.to_dict()\n",
    "\n",
    "    # Подсчитываем, сколько объектов взять из каждой страты\n",
    "    stratum_sizes = {\n",
    "        stratum: int(round(group_size * weight))\n",
    "        for stratum, weight in weights.items()\n",
    "    }\n",
    "\n",
    "    pilot_group = []\n",
    "    control_group = []\n",
    "\n",
    "    for stratum, size in stratum_sizes.items():\n",
    "        group = data[data['stratum'] == stratum]\n",
    "        if len(group) < 2 * size:\n",
    "            raise ValueError(f\"Недостаточно объектов в страте {stratum} для выборки {2*size}.\")\n",
    "\n",
    "        # Случайная перестановка\n",
    "        shuffled = group.sample(frac=1, random_state=None)\n",
    "        pilot_group.append(shuffled.iloc[:size])\n",
    "        control_group.append(shuffled.iloc[size:2*size])\n",
    "\n",
    "    pilot_df = pd.concat(pilot_group).drop(columns=['stratum']).reset_index(drop=True)\n",
    "    control_df = pd.concat(control_group).drop(columns=['stratum']).reset_index(drop=True)\n",
    "\n",
    "    return pilot_df, control_df"
   ]
  },
  {
   "cell_type": "code",
   "execution_count": 7,
   "id": "337dbadf",
   "metadata": {},
   "outputs": [
    {
     "data": {
      "text/html": [
       "<div>\n",
       "<style scoped>\n",
       "    .dataframe tbody tr th:only-of-type {\n",
       "        vertical-align: middle;\n",
       "    }\n",
       "\n",
       "    .dataframe tbody tr th {\n",
       "        vertical-align: top;\n",
       "    }\n",
       "\n",
       "    .dataframe thead th {\n",
       "        text-align: right;\n",
       "    }\n",
       "</style>\n",
       "<table border=\"1\" class=\"dataframe\">\n",
       "  <thead>\n",
       "    <tr style=\"text-align: right;\">\n",
       "      <th></th>\n",
       "      <th>user_id</th>\n",
       "      <th>platform</th>\n",
       "      <th>gender</th>\n",
       "    </tr>\n",
       "  </thead>\n",
       "  <tbody>\n",
       "    <tr>\n",
       "      <th>0</th>\n",
       "      <td>0</td>\n",
       "      <td>android</td>\n",
       "      <td>female</td>\n",
       "    </tr>\n",
       "    <tr>\n",
       "      <th>1</th>\n",
       "      <td>1</td>\n",
       "      <td>ios</td>\n",
       "      <td>male</td>\n",
       "    </tr>\n",
       "    <tr>\n",
       "      <th>2</th>\n",
       "      <td>2</td>\n",
       "      <td>ios</td>\n",
       "      <td>female</td>\n",
       "    </tr>\n",
       "    <tr>\n",
       "      <th>3</th>\n",
       "      <td>3</td>\n",
       "      <td>ios</td>\n",
       "      <td>female</td>\n",
       "    </tr>\n",
       "    <tr>\n",
       "      <th>4</th>\n",
       "      <td>4</td>\n",
       "      <td>ios</td>\n",
       "      <td>male</td>\n",
       "    </tr>\n",
       "  </tbody>\n",
       "</table>\n",
       "</div>"
      ],
      "text/plain": [
       "   user_id platform  gender\n",
       "0        0  android  female\n",
       "1        1      ios    male\n",
       "2        2      ios  female\n",
       "3        3      ios  female\n",
       "4        4      ios    male"
      ]
     },
     "execution_count": 7,
     "metadata": {},
     "output_type": "execute_result"
    }
   ],
   "source": [
    "# Пример датафрейма\n",
    "df = pd.DataFrame({\n",
    "    \"user_id\": range(1000),\n",
    "    \"platform\": np.random.choice([\"ios\", \"android\"], 1000, p=[0.4, 0.6]),\n",
    "    \"gender\": np.random.choice([\"male\", \"female\"], 1000)\n",
    "})\n",
    "df.head()"
   ]
  },
  {
   "cell_type": "code",
   "execution_count": 8,
   "id": "403f25c1",
   "metadata": {},
   "outputs": [
    {
     "name": "stdout",
     "output_type": "stream",
     "text": [
      "Pilot group strat dist:\n",
      "platform  gender\n",
      "android   female    0.290970\n",
      "          male      0.294314\n",
      "ios       female    0.220736\n",
      "          male      0.193980\n",
      "dtype: float64\n",
      "\n",
      "Control group strat dist:\n",
      "platform  gender\n",
      "android   female    0.290970\n",
      "          male      0.294314\n",
      "ios       female    0.220736\n",
      "          male      0.193980\n",
      "dtype: float64\n"
     ]
    }
   ],
   "source": [
    "# Запуск функции\n",
    "pilot, control = select_stratified_groups(df, strat_columns=[\"platform\", \"gender\"], group_size=300, seed=42)\n",
    "\n",
    "# Проверим распределение\n",
    "print(\"Pilot group strat dist:\")\n",
    "print(pilot.groupby([\"platform\", \"gender\"]).size() / len(pilot))\n",
    "\n",
    "print(\"\\nControl group strat dist:\")\n",
    "print(control.groupby([\"platform\", \"gender\"]).size() / len(control))"
   ]
  },
  {
   "cell_type": "markdown",
   "id": "fe6f3589",
   "metadata": {},
   "source": [
    "\n",
    "| platform | gender | доля  |\n",
    "| -------- | ------ | ----- |\n",
    "| android  | female | 29.1% |\n",
    "| android  | male   | 29.4% |\n",
    "| ios      | female | 22.1% |\n",
    "| ios      | male   | 19.4% |\n",
    "\n",
    "\n",
    "Абсолютно такие же доли, как в пилотной группе.\n",
    "\n",
    "* Это результат стратифицированного семплирования по колонкам `platform` и `gender`.\n",
    "* **Доли подгрупп (страт)** между пилотной и контрольной группами **одинаковы**, что и требовалось.\n",
    "* Например, 29.1% пользователей в обеих группах — это **женщины на Android**, 22.1% — **женщины на iOS**, и так далее.\n",
    "\n",
    "---\n",
    "\n",
    "* Это **обеспечивает баланс** между группами A и B по ключевым признакам.\n",
    "* Такие группы позволяют провести **более точный и справедливый A/B‑тест**, снизив влияние дисперсии и случайных перекосов.\n",
    "* Без этого — различия между группами могли бы быть связаны, скажем, с тем, что в одной группе больше женщин на Android, чем в другой, а не с самим эффектом тестируемой фичи.\n",
    "\n",
    "\n",
    "> Мы убедились, что обе группы **абсолютно одинаковы по составу** — значит, различия в метриках (например, CTR, CR и т.п.) будут обусловлены **реальным эффектом**, а не случайным смещением данных. Это ключ к корректной интерпретации A/B‑теста.\n"
   ]
  },
  {
   "cell_type": "code",
   "execution_count": null,
   "id": "2d4b0f23",
   "metadata": {},
   "outputs": [],
   "source": []
  }
 ],
 "metadata": {
  "kernelspec": {
   "display_name": "Python 3 (ipykernel)",
   "language": "python",
   "name": "python3"
  },
  "language_info": {
   "codemirror_mode": {
    "name": "ipython",
    "version": 3
   },
   "file_extension": ".py",
   "mimetype": "text/x-python",
   "name": "python",
   "nbconvert_exporter": "python",
   "pygments_lexer": "ipython3",
   "version": "3.8.18"
  }
 },
 "nbformat": 4,
 "nbformat_minor": 5
}
