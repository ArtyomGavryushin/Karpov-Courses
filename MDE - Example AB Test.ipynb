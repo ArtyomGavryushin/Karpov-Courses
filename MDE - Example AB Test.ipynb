{
 "cells": [
  {
   "cell_type": "markdown",
   "id": "ff4960fa",
   "metadata": {},
   "source": [
    "# Пример теста"
   ]
  },
  {
   "cell_type": "code",
   "execution_count": 1,
   "id": "76d270d9",
   "metadata": {},
   "outputs": [],
   "source": [
    "from statsmodels.stats.power import NormalIndPower\n",
    "from statsmodels.stats.proportion import proportion_effectsize"
   ]
  },
  {
   "cell_type": "code",
   "execution_count": 2,
   "id": "a515147a",
   "metadata": {},
   "outputs": [
    {
     "name": "stdout",
     "output_type": "stream",
     "text": [
      "Нужно по 25530 наблюдений в каждую группу\n"
     ]
    }
   ],
   "source": [
    "# Исходные данные\n",
    "p1 = 0.04   # контроль\n",
    "p2 = 0.045  # тест, хотим поймать +0.5 п.п.\n",
    "alpha = 0.05\n",
    "power = 0.8\n",
    "\n",
    "effect_size = proportion_effectsize(p1, p2)\n",
    "analysis = NormalIndPower()\n",
    "n = analysis.solve_power(effect_size, power=power, alpha=alpha, ratio=1, alternative='two-sided')\n",
    "\n",
    "print(f\"Нужно по {int(n)} наблюдений в каждую группу\")"
   ]
  },
  {
   "cell_type": "code",
   "execution_count": 3,
   "id": "c25ec029",
   "metadata": {},
   "outputs": [],
   "source": [
    "from statsmodels.stats.proportion import proportions_ztest"
   ]
  },
  {
   "cell_type": "code",
   "execution_count": 4,
   "id": "ed814616",
   "metadata": {},
   "outputs": [
    {
     "name": "stdout",
     "output_type": "stream",
     "text": [
      "p-value = 0.0073\n"
     ]
    }
   ],
   "source": [
    "clicks = [1149, 1278]\n",
    "# clicks = [600, 675]\n",
    "views = [25530, 25530]\n",
    "\n",
    "zstat, pval = proportions_ztest(clicks, views)\n",
    "print(f\"p-value = {pval:.4f}\")"
   ]
  },
  {
   "cell_type": "markdown",
   "id": "89d2e8d6",
   "metadata": {},
   "source": [
    " Интерпретация для кликов в  `clicks = [600, 675] (2.35% и 2.64%)` :\n",
    " \n",
    "* p = 0.0334 < 0.05 → Разница статистически значима.\n",
    "\n",
    "* CTR новой рассылки достоверно выше, чем у старой.\n",
    "\n",
    "* НО! прирост составил только +0.29 п.п., а ты изначально рассчитывал тест на MDE = 0.5 п.п.\n",
    "\n",
    "Мы рассчитали MDE = 0.5%, определили нужную выборку (~25k), провели тест и получили прирост CTR на 0.29 п.п.\n",
    "Хотя прирост оказался меньше ожидаемого, результат статистически значим (p = 0.033), и мы дополнительно оценивали бизнес-ценность выката — стоимость рассылки, доход на клик и прочее\n",
    "\n",
    "\n",
    "Что это означает для `clicks = [1149, 1278] (4.5% и 5%)` :\n",
    "\n",
    "* Новый вариант достоверно повышает CTR на полпроцента, и это именно то, на что был рассчитан твой тест изначально.\n",
    "\n",
    "* Разница статистически значима, т.к. p-value < 0.05.\n",
    "\n",
    "* Это говорит о том, что с вероятностью > 99% такая разница не случайна.\n",
    "\n",
    "В A/B‑тесте CTR вырос с 4.5% до 5.0%, что дало разницу в +0.5 п.п. При этом p-value = 0.0073, что говорит о статистически значимом эффекте. Так как мы изначально рассчитывали тест на MDE = 0.5 п.п. и достигли этого значения, мы приняли решение выкатить обновлённую рассылку на всех пользователей"
   ]
  },
  {
   "cell_type": "markdown",
   "id": "b0440468",
   "metadata": {},
   "source": [
    "* если p-value < 0.05 и наблюдаемый эффект ≥ MDE → результат статистически значим\n",
    "\n",
    "* если эффект < MDE → даже если p-value низкое, это малозначимый прирост\n",
    "\n",
    "Я всегда связываю MDE с ошибками I и II рода. Перед запуском эксперимента рассчитываю MDE и нужный объём выборки при α = 0.05 и Power = 0.8. Это помогает избежать ложных выводов. MDE — не просто технический параметр, а выражение минимального бизнес-значимого эффекта, который мы хотим зафиксировать\n",
    "\n",
    "| Тип ошибки             | Что это?                                        | Где участвует?                                                |\n",
    "| ---------------------- | ----------------------------------------------- | ------------------------------------------------------------- |\n",
    "| **Ошибка I рода (α)**  | Ложно отклонили H₀ (нашли эффект, которого нет) | Определяет **уровень значимости**, чаще всего **5%**          |\n",
    "| **Ошибка II рода (β)** | Не отклонили H₀, хотя эффект есть               | Определяет **мощность теста**: Power = 1 - β (обычно **80%**) |\n"
   ]
  },
  {
   "cell_type": "markdown",
   "id": "1768146c",
   "metadata": {},
   "source": [
    "# Пример - 2\n",
    "\n",
    "Оценить минимальный размер выборки для A/B-теста, необходимый для обнаружения заданных эффектов в метрике `revenue` с учётом:\n",
    "\n",
    "* Ошибки первого рода (α = 0.05)\n",
    "\n",
    "* Ошибки второго рода (β = 0.2, т.е. мощность теста 80%)."
   ]
  },
  {
   "cell_type": "code",
   "execution_count": 5,
   "id": "a66e352e",
   "metadata": {},
   "outputs": [],
   "source": [
    "import numpy as np\n",
    "import pandas as pd\n",
    "from scipy.stats import norm"
   ]
  },
  {
   "cell_type": "code",
   "execution_count": 6,
   "id": "e7682adf",
   "metadata": {},
   "outputs": [],
   "source": [
    "def estimate_sample_size(df, metric_name, effects, alpha=0.05, beta=0.2):\n",
    "    \"\"\"\n",
    "    Оцениваем sample size для списка эффектов.\n",
    "    \n",
    "    Параметры:\n",
    "    df - pd.DataFrame, датафрёйм с данными\n",
    "    metric_name - str, название столбца с целевой метрикой\n",
    "    effects - List[float], список ожидаемых эффектов (например, [1.03] - увеличение на 3%)\n",
    "    alpha - float, ошибка первого рода (значимость)\n",
    "    beta - float, ошибка второго рода (1 - мощность)\n",
    "    \n",
    "    Возвращает:\n",
    "    pd.DataFrame со столбцами ['effect', 'sample_size']\n",
    "    \"\"\"\n",
    "    # Рассчитываем параметры распределения метрики\n",
    "    mu = df[metric_name].mean()\n",
    "    sigma = df[metric_name].std(ddof=0)  # стандартное отклонение генеральной совокупности\n",
    "    \n",
    "    # Критические значения для Z-статистики\n",
    "    z_alpha = norm.ppf(1 - alpha/2)  # для двустороннего теста\n",
    "    z_beta = norm.ppf(1 - beta)\n",
    "    \n",
    "    sample_sizes = []\n",
    "    for effect in effects:\n",
    "        # Рассчитываем абсолютный размер эффекта\n",
    "        absolute_effect = mu * (effect - 1)\n",
    "        \n",
    "        # Формула для расчета размера выборки на одну группу\n",
    "        n = (2 * sigma**2 * (z_alpha + z_beta)**2) / (absolute_effect**2)\n",
    "        \n",
    "        # Округляем до ближайшего целого в большую сторону\n",
    "        n = int(np.ceil(n))\n",
    "        sample_sizes.append(n)\n",
    "    \n",
    "    return pd.DataFrame({'effect': effects, 'sample_size': sample_sizes})"
   ]
  },
  {
   "cell_type": "code",
   "execution_count": 7,
   "id": "a0d97f80",
   "metadata": {},
   "outputs": [
    {
     "name": "stdout",
     "output_type": "stream",
     "text": [
      "   effect  sample_size\n",
      "0    1.01         3364\n",
      "1    1.03          374\n",
      "2    1.05          135\n",
      "3    1.10           34\n"
     ]
    }
   ],
   "source": [
    "np.random.seed(42)\n",
    "data = np.random.normal(loc=100, scale=15, size=1000)  # нормальное распределение\n",
    "df = pd.DataFrame({'revenue': data})\n",
    "\n",
    "# Параметры для теста\n",
    "effects = [1.01, 1.03, 1.05, 1.10]  # эффекты: +1%, +3%, +5%, +10%\n",
    "alpha = 0.05\n",
    "beta = 0.2\n",
    "\n",
    "# Вызываем функцию\n",
    "result = estimate_sample_size(df, 'revenue', effects, alpha, beta)\n",
    "print(result)"
   ]
  },
  {
   "cell_type": "markdown",
   "id": "8f14ea7e",
   "metadata": {},
   "source": [
    "Почему чем больше эффект, тем меньше нужно данных?\n",
    "1. <b>Большой эффект</b> (например, +10%) легче обнаружить статистически — разница между группами будет очевидной даже на малой выборке.\n",
    "\n",
    "2. Маленький эффект (например, +1%) требует огромной выборки, потому что:\n",
    "\n",
    "    * Случайные колебания могут \"замаскировать\" слабый эффект,\n",
    "    * Нужно больше данных, чтобы доказать, что разница не случайна.\n",
    "\n",
    "\n",
    "<b>Что делать, если выборка слишком большая?</b>\n",
    "\n",
    "1. Увеличить допустимую ошибку (например, снизить мощность до 70% или α до 10%).\n",
    "2. Укрупнить метрику (например, считать не конверсию, а средний чек).\n",
    "3. Усилить эффект (например, тестировать радикальные изменения, а не мелкие правки).\n",
    "\n"
   ]
  },
  {
   "cell_type": "markdown",
   "id": "72a69bc6",
   "metadata": {},
   "source": [
    "<b>Ключевые выводы:</b>\n",
    "\n",
    "* Чем меньше эффект, тем больше выборка нужна для его обнаружения (например, для +1% требуется 3364 наблюдения на группу).\n",
    "\n",
    "* Крупные эффекты (например, +10%) обнаруживаются при малых выборках (34 наблюдения).\n",
    "\n",
    "* Общий размер эксперимента: удвоенное значение (например, для +3% нужно 374 * 2 = 748 наблюдений)."
   ]
  },
  {
   "cell_type": "code",
   "execution_count": null,
   "id": "e7b76fa1",
   "metadata": {},
   "outputs": [],
   "source": []
  }
 ],
 "metadata": {
  "kernelspec": {
   "display_name": "Python 3 (ipykernel)",
   "language": "python",
   "name": "python3"
  },
  "language_info": {
   "codemirror_mode": {
    "name": "ipython",
    "version": 3
   },
   "file_extension": ".py",
   "mimetype": "text/x-python",
   "name": "python",
   "nbconvert_exporter": "python",
   "pygments_lexer": "ipython3",
   "version": "3.8.18"
  }
 },
 "nbformat": 4,
 "nbformat_minor": 5
}
